{
 "cells": [
  {
   "cell_type": "code",
   "execution_count": null,
   "id": "ba6af951-153b-41c9-96df-2576e8905ae2",
   "metadata": {},
   "outputs": [],
   "source": [
    "using Pkg\n",
    "Pkg.activate(\"..\")\n",
    "include(\"../src/GasNetModel.jl\")\n",
    "using .GasNetModel, ModelingToolkit, Interpolations, DataFrames, CSV, Plots"
   ]
  },
  {
   "cell_type": "code",
   "execution_count": null,
   "id": "37ff2079-15c6-409d-b7db-25134db376ef",
   "metadata": {},
   "outputs": [],
   "source": [
    "# create a GasInfo, a collection of Dataframes that contains the info about pipes and substations, etc.\n",
    "ginfo = GasInfo();"
   ]
  },
  {
   "cell_type": "code",
   "execution_count": null,
   "id": "c643b9ea-7b86-4d2b-9470-c2d1ac37ceb6",
   "metadata": {},
   "outputs": [],
   "source": [
    "# create the model (1st execution time is always a bit long)\n",
    "@time @mtkcompile sys = GasSystem(ginfo = ginfo, dx=10_000);"
   ]
  },
  {
   "cell_type": "code",
   "execution_count": null,
   "id": "b14b686e-4bf7-46ca-8a26-dfe377389e4b",
   "metadata": {},
   "outputs": [],
   "source": [
    "# GasSystem.q_nodal must be explicitly defined here constant withdrawals|injections\n",
    "function GasNetModel.q_nodal(i,t)\n",
    "    ginfo.nodes.initial_nodal_flow[i] \n",
    "end"
   ]
  },
  {
   "cell_type": "code",
   "execution_count": null,
   "id": "2ea10c6c-f267-44e7-8d9e-a3daf597bac0",
   "metadata": {},
   "outputs": [],
   "source": [
    "# create the ODE problem (1st execution time is always a bit long)\n",
    "@time prob = ODEProblem(sys, Dict(), (0, 10_000), saveat=0:100:10_000);"
   ]
  },
  {
   "cell_type": "code",
   "execution_count": null,
   "id": "a9f5fdf0-2412-4ec9-bb20-2807e4e7d0c3",
   "metadata": {},
   "outputs": [],
   "source": [
    "# solve it\n",
    "@time sol = solve(prob);"
   ]
  },
  {
   "cell_type": "code",
   "execution_count": null,
   "id": "ec37db44-180e-40f1-9f77-eb99b420c1bc",
   "metadata": {},
   "outputs": [],
   "source": [
    "# check solution\n",
    "plot(sol, idxs=sys.sub_1.ρ)\n",
    "plot!(sol, idxs=sys.sub_8.ρ)\n",
    "p1 = plot!(sol, idxs=sys.sub_4.ρ)\n",
    "p2 = plot(sol, idxs=sys.pipe_9.ρ) # as expected identically seperated asymptotically\n",
    "p3 = plot(sol, idxs=sys.pipe_1.ϕ) # as expected identically asymptotically\n",
    "plot(p1, p2, p3, size=(1000,300))"
   ]
  },
  {
   "cell_type": "code",
   "execution_count": null,
   "id": "6427088a-b20a-4fd5-bfa1-0d4fe23aee59",
   "metadata": {},
   "outputs": [],
   "source": [
    "# let's now use more complex patterns\n",
    "function GasNetModel.q_nodal(i,t)\n",
    "    if i != 1\n",
    "        return ginfo.nodes.initial_nodal_flow[i] * (1 + 0.2*sin(t/1000+ 50i))\n",
    "    else\n",
    "        return t > 10_000 && t < 15_000 ? 0.0 : ginfo.nodes.initial_nodal_flow[i] * (1 + sin(t/1000+ 50i))\n",
    "    end\n",
    "end\n",
    "\n",
    "# the end the previous simulation can be used as initial conditions as follow\n",
    "prob = ModelingToolkit.remake(prob; u0 = sol.u[end]);"
   ]
  },
  {
   "cell_type": "code",
   "execution_count": null,
   "id": "01e8017c-32d7-40a6-824f-4f689ef842e6",
   "metadata": {},
   "outputs": [],
   "source": [
    "# check solution\n",
    "plot(sol, idxs=sys.sub_1.ρ)\n",
    "plot!(sol, idxs=sys.sub_2.ρ)\n",
    "plot!(sol, idxs=sys.sub_4.ρ)"
   ]
  },
  {
   "cell_type": "code",
   "execution_count": null,
   "id": "d997d04d-27d8-496d-b513-75da7c3d7e19",
   "metadata": {},
   "outputs": [],
   "source": [
    "# or with historical data\n",
    "df = DataFrame(CSV.File(\"../data/nodal_mass_flow_bc.csv\", skipto=3,header=2))\n",
    "flows = [eval(Meta.parse(\"LinearInterpolation(df.var\\\"time\\\", df.var\\\"$(i)\\\")\")) for i=1:13];\n",
    "\n",
    "function GasNetModel.q_nodal(i,t)\n",
    "    flows[i](t)\n",
    "end\n",
    "@time prob = ODEProblem(sys, Dict(), (0, 300_000), saveat=0:1000:300_000);"
   ]
  },
  {
   "cell_type": "code",
   "execution_count": null,
   "id": "a9b5c8f0-7a9c-4a89-bda5-365e11c1defc",
   "metadata": {},
   "outputs": [],
   "source": [
    "# solve it\n",
    "@time sol = solve(prob);"
   ]
  },
  {
   "cell_type": "code",
   "execution_count": null,
   "id": "3050d921-22ed-445b-8643-c32c55423d6d",
   "metadata": {},
   "outputs": [],
   "source": [
    "# check solution\n",
    "plot(sol, idxs=sys.sub_1.ρ)\n",
    "plot!(sol, idxs=sys.sub_2.ρ)\n",
    "plot!(sol, idxs=sys.sub_4.ρ)"
   ]
  }
 ],
 "metadata": {
  "kernelspec": {
   "display_name": "Julia 1.11.5",
   "language": "julia",
   "name": "julia-1.11"
  },
  "language_info": {
   "file_extension": ".jl",
   "mimetype": "application/julia",
   "name": "julia",
   "version": "1.11.5"
  }
 },
 "nbformat": 4,
 "nbformat_minor": 5
}
